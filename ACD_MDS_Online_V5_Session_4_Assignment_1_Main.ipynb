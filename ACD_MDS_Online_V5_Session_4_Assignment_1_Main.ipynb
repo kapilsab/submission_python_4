{
 "cells": [
  {
   "cell_type": "code",
   "execution_count": 26,
   "metadata": {},
   "outputs": [
    {
     "name": "stdout",
     "output_type": "stream",
     "text": [
      "Enter the side a : 3\n",
      "Enter the side b : 4\n",
      "Enter the side c : 5\n",
      "3 4 5 6.0\n"
     ]
    },
    {
     "data": {
      "text/plain": [
       "6.0"
      ]
     },
     "execution_count": 26,
     "metadata": {},
     "output_type": "execute_result"
    }
   ],
   "source": [
    "# ############################################ Session 4: Assignment 1 #####################################\n",
    "#\n",
    "# 1.1 Write a Python Program(with class concepts) to find the area of the triangle using the below formula.\n",
    "# area = (s*(s-a)*(s-b)*(s-c)) ** 0.5\n",
    "# Function to take the length of the sides of triangle from user should be defined in the parent\n",
    "# class and function to calculate the area should be defined in subclass.\n",
    "#############################################################################################################\n",
    "\n",
    "class Area:\n",
    "    def __init__(self):\n",
    "        self._sidea = int(input(\"Enter the side a : \"))\n",
    "        self._sideb = int(input(\"Enter the side b : \"))\n",
    "        self._sidec = int(input(\"Enter the side c : \"))\n",
    "\n",
    "class Triangle(Area):\n",
    "    def calculateArea(self):\n",
    "        a = self._sidea\n",
    "        b = self._sideb\n",
    "        c = self._sidec\n",
    "        s = (a + b +c)/2\n",
    "        #print(a,b,c,s)\n",
    "        return (s*(s-a)*(s-b)*(s-c)) ** 0.5\n",
    "        \n",
    "    \n",
    "    \n",
    "traingle1 = Triangle()\n",
    "traingle1.calculateArea()"
   ]
  },
  {
   "cell_type": "code",
   "execution_count": 49,
   "metadata": {},
   "outputs": [
    {
     "data": {
      "text/plain": [
       "['Word1', 'Word2', 'HughWord']"
      ]
     },
     "execution_count": 49,
     "metadata": {},
     "output_type": "execute_result"
    }
   ],
   "source": [
    "# 1.2 Write a function filter_long_words() that takes a list of words and an integer n and returns\n",
    "# the list of words that are longer than n.\n",
    "\n",
    "def filter_long_words(inputList, n):\n",
    "    #print(\"function filter_long_words()\")\n",
    "    outputList = []\n",
    "    for items in inputList:\n",
    "        if len(items)>n:\n",
    "            #print(\"Greater\")\n",
    "            outputList.append(items)        \n",
    "    return outputList\n",
    "\n",
    "filter_long_words([\"Word1\", \"Word2\",\"No\",\"HughWord\"], 3)"
   ]
  },
  {
   "cell_type": "code",
   "execution_count": 47,
   "metadata": {},
   "outputs": [
    {
     "data": {
      "text/plain": [
       "[5, 5, 5]"
      ]
     },
     "execution_count": 47,
     "metadata": {},
     "output_type": "execute_result"
    }
   ],
   "source": [
    "# 2.1 Write a Python program using function concept that maps list of words into a list of integers\n",
    "# representing the lengths of the corresponding words .\n",
    "# Hint: If a list [ ab,cde,erty] is passed on to the python function output should come as [2,3,4]\n",
    "# Here 2,3 and 4 are the lengths of the words in the list.\n",
    "\n",
    "def countWords(word):\n",
    "    return len(word)\n",
    "    \n",
    "inputWordsList = [\"Word1\", \"Word2\", \"Word3\"]\n",
    "\n",
    "def returnWordCount(wordsList):\n",
    "    return list(map(countWords, temp))\n",
    "\n",
    "\n",
    "returnWordCount(inputWordsList)"
   ]
  },
  {
   "cell_type": "code",
   "execution_count": 56,
   "metadata": {},
   "outputs": [
    {
     "data": {
      "text/plain": [
       "True"
      ]
     },
     "execution_count": 56,
     "metadata": {},
     "output_type": "execute_result"
    }
   ],
   "source": [
    "# 2.2 Write a Python function which takes a character (i.e. a string of length 1) and returns True if\n",
    "# it is a vowel, False otherwise.\n",
    "\n",
    "def isVowel(s):\n",
    "    if len(s)>1:\n",
    "        return \"Input a single character only\"\n",
    "    else:\n",
    "        lowerCase = s.lower()\n",
    "        #print(lowerCase)\n",
    "        vowelsList = [\"a\",\"e\",\"i\",\"o\",\"u\"]\n",
    "        if lowerCase in vowelsList:\n",
    "            return True\n",
    "        else:\n",
    "            return False\n",
    "isVowel(\"a\")"
   ]
  }
 ],
 "metadata": {
  "kernelspec": {
   "display_name": "Python 3",
   "language": "python",
   "name": "python3"
  },
  "language_info": {
   "codemirror_mode": {
    "name": "ipython",
    "version": 3
   },
   "file_extension": ".py",
   "mimetype": "text/x-python",
   "name": "python",
   "nbconvert_exporter": "python",
   "pygments_lexer": "ipython3",
   "version": "3.6.3"
  }
 },
 "nbformat": 4,
 "nbformat_minor": 2
}
